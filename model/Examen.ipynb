{
  "cells": [
    {
      "cell_type": "markdown",
      "metadata": {
        "id": "B4LfvdlNJWnp"
      },
      "source": [
        "# Importar Librerias"
      ]
    },
    {
      "cell_type": "code",
      "execution_count": 6,
      "metadata": {
        "colab": {
          "base_uri": "https://localhost:8080/"
        },
        "id": "iRLd8qRwHS3B",
        "outputId": "6a8b8ebb-ff6e-423f-d3f6-028e02859339"
      },
      "outputs": [],
      "source": [
        "# from google.colab import drive\n",
        "import pandas as pd\n",
        "from sklearn.model_selection import train_test_split\n",
        "import matplotlib.pyplot as plt\n",
        "import seaborn as sns\n",
        "from sklearn.linear_model import LogisticRegression\n",
        "from sklearn.metrics import accuracy_score, classification_report\n",
        "from sklearn.metrics import confusion_matrix\n",
        "# drive.mount('/content/drive')"
      ]
    },
    {
      "cell_type": "markdown",
      "metadata": {
        "id": "Oy0-HC2oJaDu"
      },
      "source": [
        "# 1. Leer el dataset"
      ]
    },
    {
      "cell_type": "code",
      "execution_count": 8,
      "metadata": {
        "colab": {
          "base_uri": "https://localhost:8080/",
          "height": 423
        },
        "id": "VaKC1QXWIv7-",
        "outputId": "9ed9bd9f-b019-4a4d-c71c-623bedc9d723"
      },
      "outputs": [
        {
          "data": {
            "text/html": [
              "<div>\n",
              "<style scoped>\n",
              "    .dataframe tbody tr th:only-of-type {\n",
              "        vertical-align: middle;\n",
              "    }\n",
              "\n",
              "    .dataframe tbody tr th {\n",
              "        vertical-align: top;\n",
              "    }\n",
              "\n",
              "    .dataframe thead th {\n",
              "        text-align: right;\n",
              "    }\n",
              "</style>\n",
              "<table border=\"1\" class=\"dataframe\">\n",
              "  <thead>\n",
              "    <tr style=\"text-align: right;\">\n",
              "      <th></th>\n",
              "      <th>age</th>\n",
              "      <th>sex</th>\n",
              "      <th>cp</th>\n",
              "      <th>trestbps</th>\n",
              "      <th>chol</th>\n",
              "      <th>fbs</th>\n",
              "      <th>restecg</th>\n",
              "      <th>thalach</th>\n",
              "      <th>exang</th>\n",
              "      <th>oldpeak</th>\n",
              "      <th>slope</th>\n",
              "      <th>ca</th>\n",
              "      <th>thal</th>\n",
              "      <th>target</th>\n",
              "    </tr>\n",
              "  </thead>\n",
              "  <tbody>\n",
              "    <tr>\n",
              "      <th>0</th>\n",
              "      <td>63</td>\n",
              "      <td>male</td>\n",
              "      <td>typical angina</td>\n",
              "      <td>145</td>\n",
              "      <td>233</td>\n",
              "      <td>1</td>\n",
              "      <td>2</td>\n",
              "      <td>150</td>\n",
              "      <td>0</td>\n",
              "      <td>2.3</td>\n",
              "      <td>3</td>\n",
              "      <td>0.0</td>\n",
              "      <td>6.0</td>\n",
              "      <td>No heart disease</td>\n",
              "    </tr>\n",
              "    <tr>\n",
              "      <th>1</th>\n",
              "      <td>67</td>\n",
              "      <td>male</td>\n",
              "      <td>asymptomatic</td>\n",
              "      <td>160</td>\n",
              "      <td>286</td>\n",
              "      <td>0</td>\n",
              "      <td>2</td>\n",
              "      <td>108</td>\n",
              "      <td>1</td>\n",
              "      <td>1.5</td>\n",
              "      <td>2</td>\n",
              "      <td>3.0</td>\n",
              "      <td>3.0</td>\n",
              "      <td>Heart disease</td>\n",
              "    </tr>\n",
              "    <tr>\n",
              "      <th>2</th>\n",
              "      <td>67</td>\n",
              "      <td>male</td>\n",
              "      <td>asymptomatic</td>\n",
              "      <td>120</td>\n",
              "      <td>229</td>\n",
              "      <td>0</td>\n",
              "      <td>2</td>\n",
              "      <td>129</td>\n",
              "      <td>1</td>\n",
              "      <td>2.6</td>\n",
              "      <td>2</td>\n",
              "      <td>2.0</td>\n",
              "      <td>7.0</td>\n",
              "      <td>Heart disease</td>\n",
              "    </tr>\n",
              "    <tr>\n",
              "      <th>3</th>\n",
              "      <td>37</td>\n",
              "      <td>male</td>\n",
              "      <td>non-anginal pain</td>\n",
              "      <td>130</td>\n",
              "      <td>250</td>\n",
              "      <td>0</td>\n",
              "      <td>0</td>\n",
              "      <td>187</td>\n",
              "      <td>0</td>\n",
              "      <td>3.5</td>\n",
              "      <td>3</td>\n",
              "      <td>0.0</td>\n",
              "      <td>3.0</td>\n",
              "      <td>No heart disease</td>\n",
              "    </tr>\n",
              "    <tr>\n",
              "      <th>4</th>\n",
              "      <td>41</td>\n",
              "      <td>female</td>\n",
              "      <td>atypical angina</td>\n",
              "      <td>130</td>\n",
              "      <td>204</td>\n",
              "      <td>0</td>\n",
              "      <td>2</td>\n",
              "      <td>172</td>\n",
              "      <td>0</td>\n",
              "      <td>1.4</td>\n",
              "      <td>1</td>\n",
              "      <td>0.0</td>\n",
              "      <td>3.0</td>\n",
              "      <td>No heart disease</td>\n",
              "    </tr>\n",
              "    <tr>\n",
              "      <th>...</th>\n",
              "      <td>...</td>\n",
              "      <td>...</td>\n",
              "      <td>...</td>\n",
              "      <td>...</td>\n",
              "      <td>...</td>\n",
              "      <td>...</td>\n",
              "      <td>...</td>\n",
              "      <td>...</td>\n",
              "      <td>...</td>\n",
              "      <td>...</td>\n",
              "      <td>...</td>\n",
              "      <td>...</td>\n",
              "      <td>...</td>\n",
              "      <td>...</td>\n",
              "    </tr>\n",
              "    <tr>\n",
              "      <th>298</th>\n",
              "      <td>45</td>\n",
              "      <td>male</td>\n",
              "      <td>typical angina</td>\n",
              "      <td>110</td>\n",
              "      <td>264</td>\n",
              "      <td>0</td>\n",
              "      <td>0</td>\n",
              "      <td>132</td>\n",
              "      <td>0</td>\n",
              "      <td>1.2</td>\n",
              "      <td>2</td>\n",
              "      <td>0.0</td>\n",
              "      <td>7.0</td>\n",
              "      <td>Heart disease</td>\n",
              "    </tr>\n",
              "    <tr>\n",
              "      <th>299</th>\n",
              "      <td>68</td>\n",
              "      <td>male</td>\n",
              "      <td>asymptomatic</td>\n",
              "      <td>144</td>\n",
              "      <td>193</td>\n",
              "      <td>1</td>\n",
              "      <td>0</td>\n",
              "      <td>141</td>\n",
              "      <td>0</td>\n",
              "      <td>3.4</td>\n",
              "      <td>2</td>\n",
              "      <td>2.0</td>\n",
              "      <td>7.0</td>\n",
              "      <td>Heart disease</td>\n",
              "    </tr>\n",
              "    <tr>\n",
              "      <th>300</th>\n",
              "      <td>57</td>\n",
              "      <td>male</td>\n",
              "      <td>asymptomatic</td>\n",
              "      <td>130</td>\n",
              "      <td>131</td>\n",
              "      <td>0</td>\n",
              "      <td>0</td>\n",
              "      <td>115</td>\n",
              "      <td>1</td>\n",
              "      <td>1.2</td>\n",
              "      <td>2</td>\n",
              "      <td>1.0</td>\n",
              "      <td>7.0</td>\n",
              "      <td>Heart disease</td>\n",
              "    </tr>\n",
              "    <tr>\n",
              "      <th>301</th>\n",
              "      <td>57</td>\n",
              "      <td>female</td>\n",
              "      <td>atypical angina</td>\n",
              "      <td>130</td>\n",
              "      <td>236</td>\n",
              "      <td>0</td>\n",
              "      <td>2</td>\n",
              "      <td>174</td>\n",
              "      <td>0</td>\n",
              "      <td>0.0</td>\n",
              "      <td>2</td>\n",
              "      <td>1.0</td>\n",
              "      <td>3.0</td>\n",
              "      <td>Heart disease</td>\n",
              "    </tr>\n",
              "    <tr>\n",
              "      <th>302</th>\n",
              "      <td>38</td>\n",
              "      <td>male</td>\n",
              "      <td>non-anginal pain</td>\n",
              "      <td>138</td>\n",
              "      <td>175</td>\n",
              "      <td>0</td>\n",
              "      <td>0</td>\n",
              "      <td>173</td>\n",
              "      <td>0</td>\n",
              "      <td>0.0</td>\n",
              "      <td>1</td>\n",
              "      <td>NaN</td>\n",
              "      <td>3.0</td>\n",
              "      <td>No heart disease</td>\n",
              "    </tr>\n",
              "  </tbody>\n",
              "</table>\n",
              "<p>303 rows × 14 columns</p>\n",
              "</div>"
            ],
            "text/plain": [
              "     age     sex                cp  trestbps  chol  fbs  restecg  thalach  \\\n",
              "0     63    male    typical angina       145   233    1        2      150   \n",
              "1     67    male      asymptomatic       160   286    0        2      108   \n",
              "2     67    male      asymptomatic       120   229    0        2      129   \n",
              "3     37    male  non-anginal pain       130   250    0        0      187   \n",
              "4     41  female   atypical angina       130   204    0        2      172   \n",
              "..   ...     ...               ...       ...   ...  ...      ...      ...   \n",
              "298   45    male    typical angina       110   264    0        0      132   \n",
              "299   68    male      asymptomatic       144   193    1        0      141   \n",
              "300   57    male      asymptomatic       130   131    0        0      115   \n",
              "301   57  female   atypical angina       130   236    0        2      174   \n",
              "302   38    male  non-anginal pain       138   175    0        0      173   \n",
              "\n",
              "     exang  oldpeak  slope   ca  thal            target  \n",
              "0        0      2.3      3  0.0   6.0  No heart disease  \n",
              "1        1      1.5      2  3.0   3.0     Heart disease  \n",
              "2        1      2.6      2  2.0   7.0     Heart disease  \n",
              "3        0      3.5      3  0.0   3.0  No heart disease  \n",
              "4        0      1.4      1  0.0   3.0  No heart disease  \n",
              "..     ...      ...    ...  ...   ...               ...  \n",
              "298      0      1.2      2  0.0   7.0     Heart disease  \n",
              "299      0      3.4      2  2.0   7.0     Heart disease  \n",
              "300      1      1.2      2  1.0   7.0     Heart disease  \n",
              "301      0      0.0      2  1.0   3.0     Heart disease  \n",
              "302      0      0.0      1  NaN   3.0  No heart disease  \n",
              "\n",
              "[303 rows x 14 columns]"
            ]
          },
          "execution_count": 8,
          "metadata": {},
          "output_type": "execute_result"
        }
      ],
      "source": [
        "df = pd.read_csv('.././data/heart_disease_examen.csv')\n",
        "df"
      ]
    },
    {
      "cell_type": "markdown",
      "metadata": {
        "id": "9xa4S3lMJc3E"
      },
      "source": [
        "# 2. Verificar valores nulos"
      ]
    },
    {
      "cell_type": "code",
      "execution_count": 9,
      "metadata": {
        "colab": {
          "base_uri": "https://localhost:8080/",
          "height": 523
        },
        "id": "N45BK135JgG9",
        "outputId": "eb6ef317-110c-463f-cb74-5cdf633b382e"
      },
      "outputs": [
        {
          "data": {
            "text/plain": [
              "age         0\n",
              "sex         0\n",
              "cp          0\n",
              "trestbps    0\n",
              "chol        0\n",
              "fbs         0\n",
              "restecg     0\n",
              "thalach     0\n",
              "exang       0\n",
              "oldpeak     0\n",
              "slope       0\n",
              "ca          4\n",
              "thal        2\n",
              "target      0\n",
              "dtype: int64"
            ]
          },
          "execution_count": 9,
          "metadata": {},
          "output_type": "execute_result"
        }
      ],
      "source": [
        "df.isnull().sum()"
      ]
    },
    {
      "cell_type": "markdown",
      "metadata": {
        "id": "4FwOW5cYJpxU"
      },
      "source": [
        "# Rellenar Valores Nulos"
      ]
    },
    {
      "cell_type": "code",
      "execution_count": 10,
      "metadata": {
        "id": "bWVTM_DFJuQt"
      },
      "outputs": [],
      "source": [
        "df.fillna({'ca': df['ca'].mean(), 'thal': df['thal'].mean()}, inplace=True)"
      ]
    },
    {
      "cell_type": "code",
      "execution_count": 11,
      "metadata": {
        "colab": {
          "base_uri": "https://localhost:8080/",
          "height": 523
        },
        "id": "NYRgxIleLhhI",
        "outputId": "2825d59c-edff-4416-c2df-c37ad3f821bc"
      },
      "outputs": [
        {
          "data": {
            "text/plain": [
              "age         0\n",
              "sex         0\n",
              "cp          0\n",
              "trestbps    0\n",
              "chol        0\n",
              "fbs         0\n",
              "restecg     0\n",
              "thalach     0\n",
              "exang       0\n",
              "oldpeak     0\n",
              "slope       0\n",
              "ca          0\n",
              "thal        0\n",
              "target      0\n",
              "dtype: int64"
            ]
          },
          "execution_count": 11,
          "metadata": {},
          "output_type": "execute_result"
        }
      ],
      "source": [
        "df.isnull().sum()"
      ]
    },
    {
      "cell_type": "markdown",
      "metadata": {
        "id": "G11fGQXaKcwK"
      },
      "source": [
        "# 3. Preprocesamiento de variables categóricas"
      ]
    },
    {
      "cell_type": "code",
      "execution_count": 12,
      "metadata": {
        "colab": {
          "base_uri": "https://localhost:8080/"
        },
        "id": "hNWyNq4CMR5s",
        "outputId": "872713fb-83f1-43ec-ab4f-3308cf59d72d"
      },
      "outputs": [
        {
          "data": {
            "text/plain": [
              "Index(['age', 'sex', 'cp', 'trestbps', 'chol', 'fbs', 'restecg', 'thalach',\n",
              "       'exang', 'oldpeak', 'slope', 'ca', 'thal', 'target'],\n",
              "      dtype='object')"
            ]
          },
          "execution_count": 12,
          "metadata": {},
          "output_type": "execute_result"
        }
      ],
      "source": [
        "df.columns"
      ]
    },
    {
      "cell_type": "code",
      "execution_count": 45,
      "metadata": {
        "id": "nZO0hTsGflPi"
      },
      "outputs": [],
      "source": [
        "columnas_categoricas = ['sex', 'cp', 'fbs', 'restecg', 'exang', 'slope', 'ca', 'thal']"
      ]
    },
    {
      "cell_type": "code",
      "execution_count": 60,
      "metadata": {
        "colab": {
          "base_uri": "https://localhost:8080/"
        },
        "id": "ibicGMdifo1z",
        "outputId": "730bcc4e-c3a9-4b58-b820-b49d1bad254b"
      },
      "outputs": [
        {
          "name": "stdout",
          "output_type": "stream",
          "text": [
            "   age  trestbps  chol  thalach  oldpeak            target  sex_male  \\\n",
            "0   63       145   233      150      2.3  No heart disease      True   \n",
            "1   67       160   286      108      1.5     Heart disease      True   \n",
            "2   67       120   229      129      2.6     Heart disease      True   \n",
            "3   37       130   250      187      3.5  No heart disease      True   \n",
            "4   41       130   204      172      1.4  No heart disease     False   \n",
            "\n",
            "   cp_atypical angina  cp_non-anginal pain  cp_typical angina  ...  exang_1  \\\n",
            "0               False                False               True  ...    False   \n",
            "1               False                False              False  ...     True   \n",
            "2               False                False              False  ...     True   \n",
            "3               False                 True              False  ...    False   \n",
            "4                True                False              False  ...    False   \n",
            "\n",
            "   slope_2  slope_3  ca_0.6722408026755853  ca_1.0  ca_2.0  ca_3.0  \\\n",
            "0    False     True                  False   False   False   False   \n",
            "1     True    False                  False   False   False    True   \n",
            "2     True    False                  False   False    True   False   \n",
            "3    False     True                  False   False   False   False   \n",
            "4    False    False                  False   False   False   False   \n",
            "\n",
            "   thal_4.73421926910299  thal_6.0  thal_7.0  \n",
            "0                  False      True     False  \n",
            "1                  False     False     False  \n",
            "2                  False     False      True  \n",
            "3                  False     False     False  \n",
            "4                  False     False     False  \n",
            "\n",
            "[5 rows x 23 columns]\n"
          ]
        }
      ],
      "source": [
        "# Aplicar one-hot encoding a las columnas categóricas\n",
        "df_encoded = pd.get_dummies(df, columns=columnas_categoricas, drop_first=True)\n",
        "\n",
        "# Mostrar las primeras filas para verificar\n",
        "print(df_encoded.head())"
      ]
    },
    {
      "cell_type": "code",
      "execution_count": 61,
      "metadata": {},
      "outputs": [
        {
          "data": {
            "text/plain": [
              "Index(['age', 'trestbps', 'chol', 'thalach', 'oldpeak', 'target', 'sex_male',\n",
              "       'cp_atypical angina', 'cp_non-anginal pain', 'cp_typical angina',\n",
              "       'fbs_1', 'restecg_1', 'restecg_2', 'exang_1', 'slope_2', 'slope_3',\n",
              "       'ca_0.6722408026755853', 'ca_1.0', 'ca_2.0', 'ca_3.0',\n",
              "       'thal_4.73421926910299', 'thal_6.0', 'thal_7.0'],\n",
              "      dtype='object')"
            ]
          },
          "execution_count": 61,
          "metadata": {},
          "output_type": "execute_result"
        }
      ],
      "source": [
        "df_encoded.columns"
      ]
    },
    {
      "cell_type": "markdown",
      "metadata": {
        "id": "tjD2rhoUNUUO"
      },
      "source": [
        "# 4. Codificar la variable objetivo(target)"
      ]
    },
    {
      "cell_type": "code",
      "execution_count": 47,
      "metadata": {
        "colab": {
          "base_uri": "https://localhost:8080/"
        },
        "id": "sOLiXWuogEmk",
        "outputId": "4b59fc83-3d42-4c37-fa58-73123588095e"
      },
      "outputs": [
        {
          "name": "stdout",
          "output_type": "stream",
          "text": [
            "['No heart disease' 'Heart disease']\n"
          ]
        }
      ],
      "source": [
        "print(df_encoded['target'].unique())"
      ]
    },
    {
      "cell_type": "code",
      "execution_count": 48,
      "metadata": {
        "colab": {
          "base_uri": "https://localhost:8080/"
        },
        "id": "2c0McHf2gKw9",
        "outputId": "d2fb68b7-e9d7-43aa-f5b3-1798d6cbf858"
      },
      "outputs": [
        {
          "name": "stdout",
          "output_type": "stream",
          "text": [
            "[0 1]\n"
          ]
        }
      ],
      "source": [
        "# Ejemplo con 'Presence' y 'Absence'\n",
        "df_encoded['target'] = df_encoded['target'].map({'No heart disease': 0, 'Heart disease': 1})\n",
        "\n",
        "# Verificar la conversión\n",
        "print(df_encoded['target'].unique())"
      ]
    },
    {
      "cell_type": "code",
      "execution_count": 49,
      "metadata": {
        "colab": {
          "base_uri": "https://localhost:8080/",
          "height": 178
        },
        "id": "yNq1t1cMdD1u",
        "outputId": "ede57a1c-b233-41e2-d32c-a69e9b788bf4"
      },
      "outputs": [
        {
          "data": {
            "text/plain": [
              "target\n",
              "No heart disease    164\n",
              "Heart disease       139\n",
              "Name: count, dtype: int64"
            ]
          },
          "execution_count": 49,
          "metadata": {},
          "output_type": "execute_result"
        }
      ],
      "source": [
        "df['target'].value_counts()"
      ]
    },
    {
      "cell_type": "markdown",
      "metadata": {
        "id": "ZnUStEVSNrtX"
      },
      "source": [
        "# 5. Division de conjunto de datos (80% - 20%)"
      ]
    },
    {
      "cell_type": "code",
      "execution_count": 50,
      "metadata": {
        "colab": {
          "base_uri": "https://localhost:8080/"
        },
        "id": "mzbjUEQsglm8",
        "outputId": "d8933d1c-cc72-41ca-d00c-67bc7f999ed8"
      },
      "outputs": [
        {
          "name": "stdout",
          "output_type": "stream",
          "text": [
            "Características (X) tiene forma: (303, 22)\n",
            "Target (y) tiene forma: (303,)\n"
          ]
        }
      ],
      "source": [
        "# Separar características y target\n",
        "X = df_encoded.drop('target', axis=1)\n",
        "y = df_encoded['target']\n",
        "\n",
        "# Mostrar las dimensiones\n",
        "print(\"Características (X) tiene forma:\", X.shape)\n",
        "print(\"Target (y) tiene forma:\", y.shape)"
      ]
    },
    {
      "cell_type": "code",
      "execution_count": 51,
      "metadata": {
        "colab": {
          "base_uri": "https://localhost:8080/"
        },
        "id": "wD2QDARigzj7",
        "outputId": "a941da9e-5ba1-447f-de85-650b0c39e96a"
      },
      "outputs": [
        {
          "name": "stdout",
          "output_type": "stream",
          "text": [
            "X_train: (242, 22)\n",
            "X_test: (61, 22)\n",
            "y_train: (242,)\n",
            "y_test: (61,)\n"
          ]
        }
      ],
      "source": [
        "# Dividir el dataset\n",
        "X_train, X_test, y_train, y_test = train_test_split(X, y, test_size=0.2, random_state=42)\n",
        "\n",
        "# Verificar las dimensiones\n",
        "print(\"X_train:\", X_train.shape)\n",
        "print(\"X_test:\", X_test.shape)\n",
        "print(\"y_train:\", y_train.shape)\n",
        "print(\"y_test:\", y_test.shape)"
      ]
    },
    {
      "cell_type": "markdown",
      "metadata": {
        "id": "3AK3lLQ8OOkC"
      },
      "source": [
        "# 6. Analisis EDA"
      ]
    },
    {
      "cell_type": "code",
      "execution_count": 52,
      "metadata": {
        "colab": {
          "base_uri": "https://localhost:8080/",
          "height": 300
        },
        "id": "3fVfh3_NOQJo",
        "outputId": "0324840d-d302-4361-a589-b3258b40d487"
      },
      "outputs": [
        {
          "data": {
            "text/html": [
              "<div>\n",
              "<style scoped>\n",
              "    .dataframe tbody tr th:only-of-type {\n",
              "        vertical-align: middle;\n",
              "    }\n",
              "\n",
              "    .dataframe tbody tr th {\n",
              "        vertical-align: top;\n",
              "    }\n",
              "\n",
              "    .dataframe thead th {\n",
              "        text-align: right;\n",
              "    }\n",
              "</style>\n",
              "<table border=\"1\" class=\"dataframe\">\n",
              "  <thead>\n",
              "    <tr style=\"text-align: right;\">\n",
              "      <th></th>\n",
              "      <th>age</th>\n",
              "      <th>trestbps</th>\n",
              "      <th>chol</th>\n",
              "      <th>fbs</th>\n",
              "      <th>restecg</th>\n",
              "      <th>thalach</th>\n",
              "      <th>exang</th>\n",
              "      <th>oldpeak</th>\n",
              "      <th>slope</th>\n",
              "      <th>ca</th>\n",
              "      <th>thal</th>\n",
              "    </tr>\n",
              "  </thead>\n",
              "  <tbody>\n",
              "    <tr>\n",
              "      <th>count</th>\n",
              "      <td>303.000000</td>\n",
              "      <td>303.000000</td>\n",
              "      <td>303.000000</td>\n",
              "      <td>303.000000</td>\n",
              "      <td>303.000000</td>\n",
              "      <td>303.000000</td>\n",
              "      <td>303.000000</td>\n",
              "      <td>303.000000</td>\n",
              "      <td>303.000000</td>\n",
              "      <td>303.000000</td>\n",
              "      <td>303.000000</td>\n",
              "    </tr>\n",
              "    <tr>\n",
              "      <th>mean</th>\n",
              "      <td>54.438944</td>\n",
              "      <td>131.689769</td>\n",
              "      <td>246.693069</td>\n",
              "      <td>0.148515</td>\n",
              "      <td>0.990099</td>\n",
              "      <td>149.607261</td>\n",
              "      <td>0.326733</td>\n",
              "      <td>1.039604</td>\n",
              "      <td>1.600660</td>\n",
              "      <td>0.672241</td>\n",
              "      <td>4.734219</td>\n",
              "    </tr>\n",
              "    <tr>\n",
              "      <th>std</th>\n",
              "      <td>9.038662</td>\n",
              "      <td>17.599748</td>\n",
              "      <td>51.776918</td>\n",
              "      <td>0.356198</td>\n",
              "      <td>0.994971</td>\n",
              "      <td>22.875003</td>\n",
              "      <td>0.469794</td>\n",
              "      <td>1.161075</td>\n",
              "      <td>0.616226</td>\n",
              "      <td>0.931209</td>\n",
              "      <td>1.933272</td>\n",
              "    </tr>\n",
              "    <tr>\n",
              "      <th>min</th>\n",
              "      <td>29.000000</td>\n",
              "      <td>94.000000</td>\n",
              "      <td>126.000000</td>\n",
              "      <td>0.000000</td>\n",
              "      <td>0.000000</td>\n",
              "      <td>71.000000</td>\n",
              "      <td>0.000000</td>\n",
              "      <td>0.000000</td>\n",
              "      <td>1.000000</td>\n",
              "      <td>0.000000</td>\n",
              "      <td>3.000000</td>\n",
              "    </tr>\n",
              "    <tr>\n",
              "      <th>25%</th>\n",
              "      <td>48.000000</td>\n",
              "      <td>120.000000</td>\n",
              "      <td>211.000000</td>\n",
              "      <td>0.000000</td>\n",
              "      <td>0.000000</td>\n",
              "      <td>133.500000</td>\n",
              "      <td>0.000000</td>\n",
              "      <td>0.000000</td>\n",
              "      <td>1.000000</td>\n",
              "      <td>0.000000</td>\n",
              "      <td>3.000000</td>\n",
              "    </tr>\n",
              "    <tr>\n",
              "      <th>50%</th>\n",
              "      <td>56.000000</td>\n",
              "      <td>130.000000</td>\n",
              "      <td>241.000000</td>\n",
              "      <td>0.000000</td>\n",
              "      <td>1.000000</td>\n",
              "      <td>153.000000</td>\n",
              "      <td>0.000000</td>\n",
              "      <td>0.800000</td>\n",
              "      <td>2.000000</td>\n",
              "      <td>0.000000</td>\n",
              "      <td>3.000000</td>\n",
              "    </tr>\n",
              "    <tr>\n",
              "      <th>75%</th>\n",
              "      <td>61.000000</td>\n",
              "      <td>140.000000</td>\n",
              "      <td>275.000000</td>\n",
              "      <td>0.000000</td>\n",
              "      <td>2.000000</td>\n",
              "      <td>166.000000</td>\n",
              "      <td>1.000000</td>\n",
              "      <td>1.600000</td>\n",
              "      <td>2.000000</td>\n",
              "      <td>1.000000</td>\n",
              "      <td>7.000000</td>\n",
              "    </tr>\n",
              "    <tr>\n",
              "      <th>max</th>\n",
              "      <td>77.000000</td>\n",
              "      <td>200.000000</td>\n",
              "      <td>564.000000</td>\n",
              "      <td>1.000000</td>\n",
              "      <td>2.000000</td>\n",
              "      <td>202.000000</td>\n",
              "      <td>1.000000</td>\n",
              "      <td>6.200000</td>\n",
              "      <td>3.000000</td>\n",
              "      <td>3.000000</td>\n",
              "      <td>7.000000</td>\n",
              "    </tr>\n",
              "  </tbody>\n",
              "</table>\n",
              "</div>"
            ],
            "text/plain": [
              "              age    trestbps        chol         fbs     restecg     thalach  \\\n",
              "count  303.000000  303.000000  303.000000  303.000000  303.000000  303.000000   \n",
              "mean    54.438944  131.689769  246.693069    0.148515    0.990099  149.607261   \n",
              "std      9.038662   17.599748   51.776918    0.356198    0.994971   22.875003   \n",
              "min     29.000000   94.000000  126.000000    0.000000    0.000000   71.000000   \n",
              "25%     48.000000  120.000000  211.000000    0.000000    0.000000  133.500000   \n",
              "50%     56.000000  130.000000  241.000000    0.000000    1.000000  153.000000   \n",
              "75%     61.000000  140.000000  275.000000    0.000000    2.000000  166.000000   \n",
              "max     77.000000  200.000000  564.000000    1.000000    2.000000  202.000000   \n",
              "\n",
              "            exang     oldpeak       slope          ca        thal  \n",
              "count  303.000000  303.000000  303.000000  303.000000  303.000000  \n",
              "mean     0.326733    1.039604    1.600660    0.672241    4.734219  \n",
              "std      0.469794    1.161075    0.616226    0.931209    1.933272  \n",
              "min      0.000000    0.000000    1.000000    0.000000    3.000000  \n",
              "25%      0.000000    0.000000    1.000000    0.000000    3.000000  \n",
              "50%      0.000000    0.800000    2.000000    0.000000    3.000000  \n",
              "75%      1.000000    1.600000    2.000000    1.000000    7.000000  \n",
              "max      1.000000    6.200000    3.000000    3.000000    7.000000  "
            ]
          },
          "execution_count": 52,
          "metadata": {},
          "output_type": "execute_result"
        }
      ],
      "source": [
        "df.describe()"
      ]
    },
    {
      "cell_type": "markdown",
      "metadata": {
        "id": "-7oDNDXiOoNK"
      },
      "source": [
        "# Visualicacion de datos"
      ]
    },
    {
      "cell_type": "code",
      "execution_count": 14,
      "metadata": {
        "colab": {
          "base_uri": "https://localhost:8080/",
          "height": 472
        },
        "id": "ouC02C73PIlR",
        "outputId": "f90bd436-df6c-40ba-b4e9-e9f0244590eb"
      },
      "outputs": [
        {
          "data": {
            "image/png": "[encoded data removed]",
            "text/plain": [
              "<Figure size 640x480 with 1 Axes>"
            ]
          },
          "metadata": {},
          "output_type": "display_data"
        }
      ],
      "source": [
        "sns.countplot(x='sex', data=df, hue='sex')\n",
        "plt.title('Distribución de la variable sex')\n",
        "plt.xlabel('Sexo')\n",
        "plt.ylabel('Conteo')\n",
        "plt.show()"
      ]
    },
    {
      "cell_type": "markdown",
      "metadata": {
        "id": "52QC5JbMQgBD"
      },
      "source": [
        "# 7. Entrenamiento de modelo"
      ]
    },
    {
      "cell_type": "code",
      "execution_count": 53,
      "metadata": {
        "colab": {
          "base_uri": "https://localhost:8080/"
        },
        "id": "SJx3-ZtuhQ_P",
        "outputId": "01c3ab93-e773-44a5-c286-9c5fc90fd669"
      },
      "outputs": [
        {
          "name": "stdout",
          "output_type": "stream",
          "text": [
            "\n",
            "Reporte de Clasificación:\n",
            "              precision    recall  f1-score   support\n",
            "\n",
            "           0       0.83      0.86      0.85        29\n",
            "           1       0.87      0.84      0.86        32\n",
            "\n",
            "    accuracy                           0.85        61\n",
            "   macro avg       0.85      0.85      0.85        61\n",
            "weighted avg       0.85      0.85      0.85        61\n",
            "\n"
          ]
        },
        {
          "name": "stderr",
          "output_type": "stream",
          "text": [
            "c:\\Users\\Kode\\Desktop\\App Flask\\venv\\Lib\\site-packages\\sklearn\\linear_model\\_logistic.py:469: ConvergenceWarning: lbfgs failed to converge (status=1):\n",
            "STOP: TOTAL NO. of ITERATIONS REACHED LIMIT.\n",
            "\n",
            "Increase the number of iterations (max_iter) or scale the data as shown in:\n",
            "    https://scikit-learn.org/stable/modules/preprocessing.html\n",
            "Please also refer to the documentation for alternative solver options:\n",
            "    https://scikit-learn.org/stable/modules/linear_model.html#logistic-regression\n",
            "  n_iter_i = _check_optimize_result(\n"
          ]
        }
      ],
      "source": [
        "# Inicializar el modelo\n",
        "modelo = LogisticRegression(max_iter=1000)\n",
        "\n",
        "# Entrenar el modelo\n",
        "modelo.fit(X_train, y_train)\n",
        "\n",
        "# Realizar predicciones\n",
        "y_pred = modelo.predict(X_test)\n",
        "\n",
        "print(\"\\nReporte de Clasificación:\")\n",
        "print(classification_report(y_test, y_pred))"
      ]
    },
    {
      "cell_type": "markdown",
      "metadata": {
        "id": "rbdMGdDBR-q-"
      },
      "source": [
        "# 8. Calcular la precisión del modelo"
      ]
    },
    {
      "cell_type": "code",
      "execution_count": 54,
      "metadata": {
        "colab": {
          "base_uri": "https://localhost:8080/"
        },
        "id": "SzAj-EpfQ0qc",
        "outputId": "c2b43f34-4df0-4f42-f59f-a4cee4dfc79f"
      },
      "outputs": [
        {
          "name": "stdout",
          "output_type": "stream",
          "text": [
            "Precisión del modelo: 0.8524590163934426\n"
          ]
        }
      ],
      "source": [
        "accuracy = accuracy_score(y_test, y_pred)\n",
        "print(\"Precisión del modelo:\", accuracy)"
      ]
    },
    {
      "cell_type": "markdown",
      "metadata": {
        "id": "zPXKC71tSOAc"
      },
      "source": [
        "# 9. Mapa de calor"
      ]
    },
    {
      "cell_type": "code",
      "execution_count": null,
      "metadata": {
        "colab": {
          "base_uri": "https://localhost:8080/",
          "height": 853
        },
        "id": "fAo9xyXtSRjO",
        "outputId": "d139745b-dbb8-4f76-d734-f477dd58c8ee"
      },
      "outputs": [
        {
          "data": {
            "image/png": "[encoded data removed]",
            "text/plain": [
              "<Figure size 1200x1000 with 2 Axes>"
            ]
          },
          "metadata": {},
          "output_type": "display_data"
        }
      ],
      "source": [
        "numerical_df = df.select_dtypes(include=['number']) # Solo valores numericos\n",
        "correlation_matrix = numerical_df.corr()\n",
        "\n",
        "# Crear el mapa de calor\n",
        "plt.figure(figsize=(12, 10))\n",
        "sns.heatmap(correlation_matrix, annot=True, cmap='coolwarm', fmt=\".2f\")\n",
        "plt.title('Matriz de Correlación')\n",
        "plt.show()"
      ]
    },
    {
      "cell_type": "markdown",
      "metadata": {
        "id": "AdduR4bDW_so"
      },
      "source": [
        "Informe Detallado del Mapa de Calor:\n",
        "------------------------------------\n",
        "Correlación entre 'oldpeak' y 'slope': 0.58\n",
        "- Existe una correlación positiva fuerte.\n",
        "- A medida que aumenta el valor de oldpeak también tiende a aumentar el valor de slope\n",
        "\n",
        "Interpretacion:\n",
        "-------------\n",
        "El mapa de calor muestra la correlación entre las diferentes variables numéricas del conjunto de datos.\n",
        "Las celdas con colores más rojos indican una correlación positiva fuerte, mientras que las celdas con colores azules indican una correlación negativa fuerte.\n",
        "Las celdas con colores cercanos al blanco o gris indican una correlación débil o inexistente.\n",
        "\n",
        "Observacion:\n",
        "-------------\n",
        "Es importante analizar las correlaciones para identificar posibles relaciones entre las variables. Por ejemplo,\n",
        "si dos variables están fuertemente correlacionadas, es posible que una de ellas sea redundante y se pueda eliminar del análisis."
      ]
    },
    {
      "cell_type": "markdown",
      "metadata": {
        "id": "9L39P2kLV1y2"
      },
      "source": [
        "# Matriz de confusion"
      ]
    },
    {
      "cell_type": "code",
      "execution_count": 55,
      "metadata": {
        "colab": {
          "base_uri": "https://localhost:8080/",
          "height": 564
        },
        "id": "SnYZCAQsV4yr",
        "outputId": "5cfa5a02-ad55-4d52-a7ad-a5396ac90dc3"
      },
      "outputs": [
        {
          "data": {
            "image/png": "[encoded data removed]",
            "text/plain": [
              "<Figure size 800x600 with 2 Axes>"
            ]
          },
          "metadata": {},
          "output_type": "display_data"
        }
      ],
      "source": [
        "# Calcular la matriz de confusión\n",
        "cm = confusion_matrix(y_test, y_pred)\n",
        "\n",
        "# Crear el mapa de calor de la matriz de confusión\n",
        "plt.figure(figsize=(8, 6))\n",
        "sns.heatmap(cm, annot=True, fmt=\"d\", cmap=\"Blues\",)\n",
        "plt.title('Matriz de Confusión')\n",
        "plt.xlabel('Predicción')\n",
        "plt.ylabel('Valor Real')\n",
        "plt.show()"
      ]
    },
    {
      "cell_type": "markdown",
      "metadata": {
        "id": "RokxXCuvXbF7"
      },
      "source": [
        "Interpretación de la Matriz de Confusión:\n",
        "---------------------------------------\n",
        "Verdaderos Positivos (TP): 25\n",
        "  - El modelo predijo correctamente que los pacientes tienen enfermedad cardíaca y realmente la tienen.\n",
        "Verdaderos Negativos (TN): 28\n",
        "  - El modelo predijo correctamente que los pacientes no tienen enfermedad cardíaca y realmente no la tienen.\n",
        "Falsos Positivos (FP): 4\n",
        "  - El modelo predijo incorrectamente que los pacientes tienen enfermedad cardíaca, pero en realidad no la tienen.\n",
        "Falsos Negativos (FN): 4\n",
        "  - El modelo predijo incorrectamente que los pacientes no tienen enfermedad cardíaca, pero en realidad sí la tienen."
      ]
    },
    {
      "cell_type": "code",
      "execution_count": 62,
      "metadata": {
        "colab": {
          "base_uri": "https://localhost:8080/"
        },
        "id": "rboTQFJrTaVb",
        "outputId": "d3699d9d-e5cc-4909-b965-fe5a935d5d3d"
      },
      "outputs": [
        {
          "name": "stdout",
          "output_type": "stream",
          "text": [
            "Modelo guardado en: .././model\\heart_disease_model.pkl\n"
          ]
        }
      ],
      "source": [
        "import os\n",
        "import joblib\n",
        "\n",
        "# Definir la ruta al directorio de modelos\n",
        "model_dir = '.././model'\n",
        "model_path = os.path.join(model_dir, 'heart_disease_model.pkl')\n",
        "\n",
        "# Verificar si el directorio existe; si no, crearlo\n",
        "if not os.path.exists(model_dir):\n",
        "    os.makedirs(model_dir)\n",
        "    print(f'El directorio {model_dir} ha sido creado.')\n",
        "\n",
        "# Guardar el modelo\n",
        "joblib.dump(modelo, model_path)\n",
        "print(f'Modelo guardado en: {model_path}')"
      ]
    }
  ],
  "metadata": {
    "colab": {
      "provenance": []
    },
    "kernelspec": {
      "display_name": "Python 3",
      "name": "python3"
    },
    "language_info": {
      "name": "python"
    }
  },
  "nbformat": 4,
  "nbformat_minor": 0
}
